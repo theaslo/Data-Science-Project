{
 "metadata": {
  "language_info": {
   "codemirror_mode": {
    "name": "ipython",
    "version": 3
   },
   "file_extension": ".py",
   "mimetype": "text/x-python",
   "name": "python",
   "nbconvert_exporter": "python",
   "pygments_lexer": "ipython3",
   "version": "3.7.4-final"
  },
  "orig_nbformat": 2,
  "kernelspec": {
   "name": "python374jvsc74a57bd06ce63b966461d54c04fa57ff9a68fbec877da86e2e4d68cf0d3115ee761f81b6",
   "display_name": "Python 3.7.4 64-bit ('base': conda)"
  }
 },
 "nbformat": 4,
 "nbformat_minor": 2,
 "cells": [
  {
   "cell_type": "code",
   "execution_count": 1,
   "metadata": {},
   "outputs": [
    {
     "output_type": "execute_result",
     "data": {
      "text/plain": [
       "     id  composer  ... catalog_name seconds\n",
       "0  1727  Schubert  ...        OP114     447\n",
       "1  1728  Schubert  ...        OP114     251\n",
       "2  1729  Schubert  ...        OP114     444\n",
       "3  1730  Schubert  ...        OP114     368\n",
       "4  1733  Schubert  ...         D959     546\n",
       "\n",
       "[5 rows x 9 columns]"
      ],
      "text/html": "<div>\n<style scoped>\n    .dataframe tbody tr th:only-of-type {\n        vertical-align: middle;\n    }\n\n    .dataframe tbody tr th {\n        vertical-align: top;\n    }\n\n    .dataframe thead th {\n        text-align: right;\n    }\n</style>\n<table border=\"1\" class=\"dataframe\">\n  <thead>\n    <tr style=\"text-align: right;\">\n      <th></th>\n      <th>id</th>\n      <th>composer</th>\n      <th>composition</th>\n      <th>movement</th>\n      <th>ensemble</th>\n      <th>source</th>\n      <th>transcriber</th>\n      <th>catalog_name</th>\n      <th>seconds</th>\n    </tr>\n  </thead>\n  <tbody>\n    <tr>\n      <td>0</td>\n      <td>1727</td>\n      <td>Schubert</td>\n      <td>Piano Quintet in A major</td>\n      <td>2. Andante</td>\n      <td>Piano Quintet</td>\n      <td>European Archive</td>\n      <td>http://tirolmusic.blogspot.com/</td>\n      <td>OP114</td>\n      <td>447</td>\n    </tr>\n    <tr>\n      <td>1</td>\n      <td>1728</td>\n      <td>Schubert</td>\n      <td>Piano Quintet in A major</td>\n      <td>3. Scherzo: Presto</td>\n      <td>Piano Quintet</td>\n      <td>European Archive</td>\n      <td>http://tirolmusic.blogspot.com/</td>\n      <td>OP114</td>\n      <td>251</td>\n    </tr>\n    <tr>\n      <td>2</td>\n      <td>1729</td>\n      <td>Schubert</td>\n      <td>Piano Quintet in A major</td>\n      <td>4. Andantino - Allegretto</td>\n      <td>Piano Quintet</td>\n      <td>European Archive</td>\n      <td>http://tirolmusic.blogspot.com/</td>\n      <td>OP114</td>\n      <td>444</td>\n    </tr>\n    <tr>\n      <td>3</td>\n      <td>1730</td>\n      <td>Schubert</td>\n      <td>Piano Quintet in A major</td>\n      <td>5. Allegro giusto</td>\n      <td>Piano Quintet</td>\n      <td>European Archive</td>\n      <td>http://tirolmusic.blogspot.com/</td>\n      <td>OP114</td>\n      <td>368</td>\n    </tr>\n    <tr>\n      <td>4</td>\n      <td>1733</td>\n      <td>Schubert</td>\n      <td>Piano Sonata in A major</td>\n      <td>2. Andantino</td>\n      <td>Solo Piano</td>\n      <td>Museopen</td>\n      <td>Segundo G. Yogore</td>\n      <td>D959</td>\n      <td>546</td>\n    </tr>\n  </tbody>\n</table>\n</div>"
     },
     "metadata": {},
     "execution_count": 1
    }
   ],
   "source": [
    "import pandas as pd \n",
    "df= pd.read_csv('musicnet_metadata.csv')\n",
    "df.head()"
   ]
  },
  {
   "cell_type": "code",
   "execution_count": 2,
   "metadata": {},
   "outputs": [
    {
     "output_type": "stream",
     "name": "stdout",
     "text": [
      "<class 'pandas.core.frame.DataFrame'>\nRangeIndex: 330 entries, 0 to 329\nData columns (total 9 columns):\nid              330 non-null int64\ncomposer        330 non-null object\ncomposition     330 non-null object\nmovement        330 non-null object\nensemble        330 non-null object\nsource          330 non-null object\ntranscriber     330 non-null object\ncatalog_name    330 non-null object\nseconds         330 non-null int64\ndtypes: int64(2), object(7)\nmemory usage: 23.3+ KB\n"
     ]
    }
   ],
   "source": [
    "df.info()"
   ]
  },
  {
   "cell_type": "code",
   "execution_count": null,
   "metadata": {},
   "outputs": [],
   "source": []
  }
 ]
}